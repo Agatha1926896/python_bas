{
 "cells": [
  {
   "cell_type": "markdown",
   "metadata": {},
   "source": [
    "| | |\n",
    "|:---|:---|\n",
    "| | |"
   ]
  },
  {
   "cell_type": "markdown",
   "metadata": {},
   "source": [
    "算術運算子"
   ]
  },
  {
   "cell_type": "code",
   "execution_count": 2,
   "metadata": {},
   "outputs": [
    {
     "name": "stdout",
     "output_type": "stream",
     "text": [
      "15\n",
      "454\n",
      "376\n",
      "1.2857142857142858\n",
      "1\n",
      "8\n",
      "4\n"
     ]
    }
   ],
   "source": [
    "print(10+5)\n",
    "print(999-545)\n",
    "print(94*4)\n",
    "print(9/7)\n",
    "print(7%3)\n",
    "print(2**3)\n",
    "print(9//2)"
   ]
  },
  {
   "cell_type": "markdown",
   "metadata": {},
   "source": [
    "賦值運算子"
   ]
  },
  {
   "cell_type": "code",
   "execution_count": 5,
   "metadata": {},
   "outputs": [
    {
     "name": "stdout",
     "output_type": "stream",
     "text": [
      "81 4\n"
     ]
    }
   ],
   "source": [
    "a = 3\n",
    "b = 4\n",
    "\n",
    "a**= b\n",
    "print(a,b)"
   ]
  },
  {
   "cell_type": "markdown",
   "metadata": {},
   "source": [
    "比較運算子 (用 if 判斷)"
   ]
  },
  {
   "cell_type": "code",
   "execution_count": 9,
   "metadata": {},
   "outputs": [
    {
     "name": "stdout",
     "output_type": "stream",
     "text": [
      "False\n",
      "20 flase\n"
     ]
    }
   ],
   "source": [
    "num = 20\n",
    "print(num==10)\n",
    "if num == 10:\n",
    "    print(num,\"true\")\n",
    "if num >= 10:\n",
    "     print(num,\"flase\")\n"
   ]
  },
  {
   "cell_type": "markdown",
   "metadata": {},
   "source": [
    "邏輯運算子 and / or / not"
   ]
  },
  {
   "cell_type": "code",
   "execution_count": 15,
   "metadata": {},
   "outputs": [
    {
     "name": "stdout",
     "output_type": "stream",
     "text": [
      "good1\n",
      "從false變true\n"
     ]
    }
   ],
   "source": [
    "###and\n",
    "name = \"helen\"\n",
    "age = \"10\"\n",
    "if name == \"helen\" and age ==10 :\n",
    "    print(\"good\")\n",
    " \n",
    "###or\n",
    "name1 = \"helen\"\n",
    "age1 = \"15\"\n",
    "if name1 == \"helen\" or age1 ==10 :\n",
    "    print(\"good1\")\n",
    "###not\n",
    "flag = False\n",
    "if not(flag):\n",
    "    \n",
    "    print(\"從false變true\")"
   ]
  },
  {
   "cell_type": "markdown",
   "metadata": {},
   "source": [
    "成員運算子 in / not in"
   ]
  },
  {
   "cell_type": "code",
   "execution_count": 22,
   "metadata": {},
   "outputs": [
    {
     "name": "stdout",
     "output_type": "stream",
     "text": [
      "5在list中\n",
      "[9, 21, 1, 7]\n"
     ]
    }
   ],
   "source": [
    "myList = [9, 5 ,1 ,7]\n",
    "if 5 in myList:\n",
    "    print(\"5在list中\")\n",
    "myList[1]=21 ###修改list值,從0開始\n",
    "print(myList)\n"
   ]
  },
  {
   "cell_type": "markdown",
   "metadata": {},
   "source": [
    "身分運算子 is / is not"
   ]
  },
  {
   "cell_type": "code",
   "execution_count": 23,
   "metadata": {},
   "outputs": [
    {
     "name": "stdout",
     "output_type": "stream",
     "text": [
      "x是y\n",
      "140710913438440\n",
      "140710913438440\n"
     ]
    }
   ],
   "source": [
    "x = 123\n",
    "y = x\n",
    "if x is y:\n",
    "    print(\"x是y\")\n",
    "print(id(x))\n",
    "print(id(y))"
   ]
  },
  {
   "cell_type": "markdown",
   "metadata": {},
   "source": [
    "位元運算子"
   ]
  },
  {
   "cell_type": "code",
   "execution_count": 32,
   "metadata": {},
   "outputs": [
    {
     "name": "stdout",
     "output_type": "stream",
     "text": [
      "1\n",
      "7\n",
      "5\n",
      "-4\n",
      "8\n"
     ]
    }
   ],
   "source": [
    "x = 1\n",
    "y = 5\n",
    "print( x & y)\n",
    "\n",
    "\n",
    "x = 6\n",
    "y = 1\n",
    "print( x | y)\n",
    "\n",
    "x = 4\n",
    "y = 1\n",
    "print( x ^ y)\n",
    "\n",
    "x=+3\n",
    "print(~ x)\n",
    "\n",
    "x=4\n",
    "print( x<<1)\n"
   ]
  },
  {
   "cell_type": "code",
   "execution_count": null,
   "metadata": {},
   "outputs": [],
   "source": []
  }
 ],
 "metadata": {
  "kernelspec": {
   "display_name": "Python 3",
   "language": "python",
   "name": "python3"
  },
  "language_info": {
   "codemirror_mode": {
    "name": "ipython",
    "version": 3
   },
   "file_extension": ".py",
   "mimetype": "text/x-python",
   "name": "python",
   "nbconvert_exporter": "python",
   "pygments_lexer": "ipython3",
   "version": "3.13.0"
  }
 },
 "nbformat": 4,
 "nbformat_minor": 2
}
