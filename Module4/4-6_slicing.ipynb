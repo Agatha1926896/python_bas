{
 "cells": [
  {
   "cell_type": "markdown",
   "metadata": {},
   "source": [
    "##### slice 透過 [ : ] 進行分割\n",
    "`[n:m]` 走訪 n 到 m - 1 的元素"
   ]
  },
  {
   "cell_type": "code",
   "execution_count": 1,
   "metadata": {},
   "outputs": [],
   "source": [
    "# 初始化一個字串\n",
    "str = \"hello,world!!!!!!!!\""
   ]
  },
  {
   "cell_type": "code",
   "execution_count": 2,
   "metadata": {},
   "outputs": [
    {
     "name": "stdout",
     "output_type": "stream",
     "text": [
      "hello\n"
     ]
    }
   ],
   "source": [
    "# 從頭取到 5（不包含第 5 個元素，實際為 0 ~ 4）\n",
    "\n",
    "print( str[:5] )"
   ]
  },
  {
   "cell_type": "code",
   "execution_count": 3,
   "metadata": {},
   "outputs": [
    {
     "name": "stdout",
     "output_type": "stream",
     "text": [
      "hello\n"
     ]
    }
   ],
   "source": [
    "# 從頭取到 5（不包含第 5 個元素，實際為 0 ~ 4）\n",
    "\n",
    "print( str[0:5] )"
   ]
  },
  {
   "cell_type": "code",
   "execution_count": 4,
   "metadata": {},
   "outputs": [
    {
     "name": "stdout",
     "output_type": "stream",
     "text": [
      "world!!!!!!!!\n"
     ]
    }
   ],
   "source": [
    "# 從 6 取到尾\n",
    "\n",
    "print( str[6:] )"
   ]
  },
  {
   "cell_type": "code",
   "execution_count": 5,
   "metadata": {},
   "outputs": [
    {
     "name": "stdout",
     "output_type": "stream",
     "text": [
      "or\n"
     ]
    }
   ],
   "source": [
    "# 從 7 取到 9（不包含第 9 個元素，實際為 7 ~ 8）\n",
    "\n",
    "print( str[7:9] )"
   ]
  },
  {
   "cell_type": "markdown",
   "metadata": {},
   "source": [
    "##### 使用負號"
   ]
  },
  {
   "cell_type": "code",
   "execution_count": 6,
   "metadata": {},
   "outputs": [
    {
     "name": "stdout",
     "output_type": "stream",
     "text": [
      "ld!\n"
     ]
    }
   ],
   "source": [
    "# 從倒數第 10 取到倒數第 7（不包含倒數第 7 的元素）\n",
    "print( str[ -10:-7] )\n"
   ]
  },
  {
   "cell_type": "code",
   "execution_count": 7,
   "metadata": {},
   "outputs": [
    {
     "name": "stdout",
     "output_type": "stream",
     "text": [
      "!!!!!\n"
     ]
    }
   ],
   "source": [
    "# 從倒數第 5 取到尾\n",
    "\n",
    "print( str[-5:] )"
   ]
  },
  {
   "cell_type": "code",
   "execution_count": 9,
   "metadata": {},
   "outputs": [
    {
     "name": "stdout",
     "output_type": "stream",
     "text": [
      "hello,world!\n"
     ]
    }
   ],
   "source": [
    "# 從頭取到倒數第 7（不包含倒數第 7 的元素）\n",
    "\n",
    "print( str[:-7] )"
   ]
  },
  {
   "cell_type": "code",
   "execution_count": 10,
   "metadata": {},
   "outputs": [
    {
     "name": "stdout",
     "output_type": "stream",
     "text": [
      "[2, 3, 4, 5]\n"
     ]
    }
   ],
   "source": [
    "# 也可以使用在 list\n",
    "mu_list = [i for i in range(1,11)]\n",
    "print( mu_list[1:5] )"
   ]
  },
  {
   "cell_type": "code",
   "execution_count": 11,
   "metadata": {},
   "outputs": [
    {
     "name": "stdout",
     "output_type": "stream",
     "text": [
      "text\n"
     ]
    }
   ],
   "source": [
    "# 取得檔案全名\n",
    "file01 = \"/home/gfdfrgb/2545fg/ebook/text\"\n",
    "list001 = file01.split(\"/\")\n",
    "print(list001[-1])\n"
   ]
  },
  {
   "cell_type": "markdown",
   "metadata": {},
   "source": [
    "---"
   ]
  },
  {
   "cell_type": "code",
   "execution_count": 12,
   "metadata": {},
   "outputs": [
    {
     "name": "stdout",
     "output_type": "stream",
     "text": [
      "['hello', 'world!', 'hello', 'John']\n",
      "HelloWorld!HelloJohn"
     ]
    }
   ],
   "source": [
    "# 實做練習 將每個單字改成大寫開頭\n",
    "\n",
    "# 字串分割成 list\n",
    "greeting = \"hello world! hello John\"\n",
    "\n",
    "world_list =greeting.split()  #要給個變數\n",
    "\n",
    "print(world_list)\n",
    "\n",
    "for i in world_list:\n",
    "    #print(i[0])\n",
    "    #print(i[1:])\n",
    "\n",
    "    print(i[0].upper()+i[1:],end=\"\")\n",
    "\n"
   ]
  }
 ],
 "metadata": {
  "kernelspec": {
   "display_name": "Python 3",
   "language": "python",
   "name": "python3"
  },
  "language_info": {
   "codemirror_mode": {
    "name": "ipython",
    "version": 3
   },
   "file_extension": ".py",
   "mimetype": "text/x-python",
   "name": "python",
   "nbconvert_exporter": "python",
   "pygments_lexer": "ipython3",
   "version": "3.13.0"
  }
 },
 "nbformat": 4,
 "nbformat_minor": 2
}
