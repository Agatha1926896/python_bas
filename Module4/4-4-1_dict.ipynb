{
 "cells": [
  {
   "cell_type": "code",
   "execution_count": 12,
   "metadata": {},
   "outputs": [
    {
     "name": "stdout",
     "output_type": "stream",
     "text": [
      "{'蘋果': 100, '橘子': 80, '番茄': 50}\n"
     ]
    }
   ],
   "source": [
    "# 初始化 dict\n",
    "dic1 = {\"蘋果\":100 ,\"橘子\":80 ,\"番茄\":50}\n",
    "print(dic1)"
   ]
  },
  {
   "cell_type": "code",
   "execution_count": 11,
   "metadata": {},
   "outputs": [
    {
     "name": "stdout",
     "output_type": "stream",
     "text": [
      "100\n"
     ]
    }
   ],
   "source": [
    "# 印出 蘋果的價格\n",
    "dic1 = {\"蘋果\":100 ,\"橘子\":80 ,\"番茄\":50}\n",
    "print(dic1[\"蘋果\"])\n"
   ]
  },
  {
   "cell_type": "code",
   "execution_count": 13,
   "metadata": {},
   "outputs": [
    {
     "name": "stdout",
     "output_type": "stream",
     "text": [
      "{'蘋果': 100, '橘子': 99, '番茄': 50}\n"
     ]
    }
   ],
   "source": [
    "# 修改 橘子的價格\n",
    "dic1[\"橘子\"]=99\n",
    "print(dic1)"
   ]
  },
  {
   "cell_type": "code",
   "execution_count": 14,
   "metadata": {},
   "outputs": [
    {
     "name": "stdout",
     "output_type": "stream",
     "text": [
      "{'蘋果': 100, '橘子': 99}\n"
     ]
    }
   ],
   "source": [
    "# 刪除 番茄\n",
    "del dic1[\"番茄\"]\n",
    "print(dic1)\n"
   ]
  },
  {
   "cell_type": "code",
   "execution_count": 17,
   "metadata": {},
   "outputs": [],
   "source": [
    "# 建立一個 value 含有 dict 的 dict\n",
    "dic2= {\n",
    "    \"name\":\"helen\",\n",
    "    \"age\":18,\n",
    "    \"info\":{\n",
    "        \"phone\":[\"0978564456\",\"02654644\",\"095451413\"],\n",
    "        \"nickname\":\"merry\",\n",
    "        \"farv\":\"sleep\"\n",
    "    }\n",
    "}\n"
   ]
  },
  {
   "cell_type": "code",
   "execution_count": 20,
   "metadata": {},
   "outputs": [
    {
     "name": "stdout",
     "output_type": "stream",
     "text": [
      "18\n",
      "merry\n"
     ]
    }
   ],
   "source": [
    "# 取得 nickname\n",
    "print(dic2[\"age\"])\n",
    "print(dic2[\"info\"][\"nickname\"])"
   ]
  },
  {
   "cell_type": "code",
   "execution_count": 19,
   "metadata": {},
   "outputs": [
    {
     "name": "stdout",
     "output_type": "stream",
     "text": [
      "['0978564456', '02654644', '095451413']\n"
     ]
    }
   ],
   "source": [
    "# 取得所有 phone_number\n",
    "print(dic2[\"info\"][\"phone\"])\n"
   ]
  },
  {
   "cell_type": "markdown",
   "metadata": {},
   "source": [
    "---"
   ]
  },
  {
   "cell_type": "code",
   "execution_count": 22,
   "metadata": {},
   "outputs": [],
   "source": [
    "'''\n",
    "改寫 fruit_dict 每個水果需要 price, quantity/amount, color\n",
    "apple 有 綠色 和 紅色\n",
    "orange 有 橘色\n",
    "tomato 有 紅色\n",
    "'''\n",
    "fruit_dict= {\n",
    "    \"蘋果\":{\n",
    "        \"price\":\"50\",\n",
    "        \"quantity\":\"20\",\n",
    "        \"color\":[\"綠色\",\"紅色\"]\n",
    "        },\n",
    "    \"orange\":{\n",
    "        \"price\":\"60\",\n",
    "        \"quantity\":\"10\",\n",
    "        \"color\":\"橘色\"\n",
    "        },\n",
    "    \"tomato\":{\n",
    "        \"price\":\"30\",\n",
    "        \"quantity\":\"15\",\n",
    "        \"color\":\"紅色\"\n",
    "        }\n",
    "}\n"
   ]
  },
  {
   "cell_type": "markdown",
   "metadata": {},
   "source": [
    "##### dict 的合併"
   ]
  },
  {
   "cell_type": "code",
   "execution_count": null,
   "metadata": {},
   "outputs": [],
   "source": [
    "# dict 的合併\n",
    "fruit_dict.update(dic2)\n"
   ]
  },
  {
   "cell_type": "markdown",
   "metadata": {},
   "source": [
    "##### 另外的 print 方式 `pprint` (pretty-print) "
   ]
  },
  {
   "cell_type": "code",
   "execution_count": 2,
   "metadata": {},
   "outputs": [],
   "source": [
    "# 從 Module 引入 function\n"
   ]
  },
  {
   "cell_type": "code",
   "execution_count": 24,
   "metadata": {},
   "outputs": [
    {
     "name": "stdout",
     "output_type": "stream",
     "text": [
      "{'蘋果': {'price': '50', 'quantity': '20', 'color': ['綠色', '紅色', '黃色', '黃色']}, 'orange': {'price': '60', 'quantity': '10', 'color': '橘色'}, 'tomato': {'price': '30', 'quantity': '15', 'color': '紅色'}}\n"
     ]
    }
   ],
   "source": [
    "'''\n",
    "新增顏色\n",
    "apple 有新的品種 顏色要有黃色\n",
    "tomato 有綠色\n",
    "'''\n",
    "fruit_dict[\"蘋果\"][\"color\"].append(\"黃色\")\n",
    "fruit_dict[\"tomato\"][\"color\"].append(\"綠色\")\n",
    "print(fruit_dict)\n"
   ]
  }
 ],
 "metadata": {
  "kernelspec": {
   "display_name": "Python 3",
   "language": "python",
   "name": "python3"
  },
  "language_info": {
   "codemirror_mode": {
    "name": "ipython",
    "version": 3
   },
   "file_extension": ".py",
   "mimetype": "text/x-python",
   "name": "python",
   "nbconvert_exporter": "python",
   "pygments_lexer": "ipython3",
   "version": "3.13.0"
  }
 },
 "nbformat": 4,
 "nbformat_minor": 2
}
