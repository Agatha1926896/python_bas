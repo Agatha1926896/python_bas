{
 "cells": [
  {
   "cell_type": "markdown",
   "metadata": {},
   "source": [
    "|語法|說明|\n",
    "|:---:|:---:|\n",
    "|%s |插入  的值到字串中|\n",
    "|%f |插入  的值到字串中|\n",
    "|%d|插入  的值到字串中|\n",
    "| |輸出  (類似跳脫字元)|"
   ]
  },
  {
   "cell_type": "code",
   "execution_count": 6,
   "metadata": {},
   "outputs": [
    {
     "name": "stdout",
     "output_type": "stream",
     "text": [
      "apple, good !!!!\n",
      "good moring, hello  !!!!\n"
     ]
    }
   ],
   "source": [
    "# 多組文字\n",
    "str1 = \"apple\"\n",
    "str2 = \"good\"\n",
    "msg = \"%s, %s !!!!\"  % (str1, str2)\n",
    "print(msg)\n",
    "print(\"%s, %s !!!!\"  % (\"good moring\", \"hello \"))\n",
    "\n"
   ]
  },
  {
   "cell_type": "code",
   "execution_count": 7,
   "metadata": {},
   "outputs": [
    {
     "name": "stdout",
     "output_type": "stream",
     "text": [
      "I am 15 years old.\n"
     ]
    }
   ],
   "source": [
    "# 整數\n",
    "msg = \"I am %d years old.\" %15\n",
    "print(msg)\n"
   ]
  },
  {
   "cell_type": "code",
   "execution_count": 8,
   "metadata": {},
   "outputs": [
    {
     "name": "stdout",
     "output_type": "stream",
     "text": [
      "helehn am 15 years old.\n"
     ]
    }
   ],
   "source": [
    "# 文字與整數\n",
    "msg = \"%s is %d years old.\" % (\"helehn\",15)\n",
    "print(msg)\n"
   ]
  },
  {
   "cell_type": "code",
   "execution_count": 11,
   "metadata": {},
   "outputs": [
    {
     "name": "stdout",
     "output_type": "stream",
     "text": [
      "[     hello]\n"
     ]
    }
   ],
   "source": [
    "# 指定寬度 (維持 10 個字元長度，預設向右看齊)\n",
    "\n",
    "msg = \"[%10s]\" % \"hello\"\n",
    "\n",
    "print(msg)"
   ]
  },
  {
   "cell_type": "code",
   "execution_count": 14,
   "metadata": {},
   "outputs": [
    {
     "name": "stdout",
     "output_type": "stream",
     "text": [
      "[hello               ]\n"
     ]
    }
   ],
   "source": [
    "# 靠左對齊 (維持 10 個字元長度，向左對齊)\n",
    "\n",
    "\n",
    "msg = \"[%-20s]\" % \"hello\"\n",
    "\n",
    "print(msg)"
   ]
  },
  {
   "cell_type": "code",
   "execution_count": 18,
   "metadata": {},
   "outputs": [
    {
     "name": "stdout",
     "output_type": "stream",
     "text": [
      "[   3.142]\n"
     ]
    }
   ],
   "source": [
    "# 指定浮點數位數\n",
    "\n",
    "msg = \"[%8.3f]\" % 3.141568722\n",
    "\n",
    "print(msg)"
   ]
  },
  {
   "cell_type": "code",
   "execution_count": 17,
   "metadata": {},
   "outputs": [
    {
     "name": "stdout",
     "output_type": "stream",
     "text": [
      "[hel]\n"
     ]
    }
   ],
   "source": [
    "# 指定文字長度上限 (只有文字，才在格式化字串中加入「.」來限定字串長度)\n",
    "\n",
    "msg = \"[%.3s]\" % \"hello\"\n",
    "\n",
    "print(msg)"
   ]
  },
  {
   "cell_type": "code",
   "execution_count": 19,
   "metadata": {},
   "outputs": [
    {
     "name": "stdout",
     "output_type": "stream",
     "text": [
      "[03.142]\n"
     ]
    }
   ],
   "source": [
    "# 空白補 0\n",
    "\n",
    "msg = \"[%06.3f]\" % 3.141568722\n",
    "\n",
    "print(msg)"
   ]
  }
 ],
 "metadata": {
  "kernelspec": {
   "display_name": "Python 3",
   "language": "python",
   "name": "python3"
  },
  "language_info": {
   "codemirror_mode": {
    "name": "ipython",
    "version": 3
   },
   "file_extension": ".py",
   "mimetype": "text/x-python",
   "name": "python",
   "nbconvert_exporter": "python",
   "pygments_lexer": "ipython3",
   "version": "3.13.0"
  }
 },
 "nbformat": 4,
 "nbformat_minor": 2
}
