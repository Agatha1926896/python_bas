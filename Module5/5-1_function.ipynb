{
 "cells": [
  {
   "cell_type": "code",
   "execution_count": 1,
   "metadata": {},
   "outputs": [
    {
     "name": "stdout",
     "output_type": "stream",
     "text": [
      "hello!\n",
      "None\n"
     ]
    }
   ],
   "source": [
    "# 建立 function 1\n",
    "\n",
    "def say():\n",
    "    print(\"hello!\")\n",
    "##沒有return\n",
    "x = say()\n",
    "print(x)"
   ]
  },
  {
   "cell_type": "code",
   "execution_count": 2,
   "metadata": {},
   "outputs": [
    {
     "name": "stdout",
     "output_type": "stream",
     "text": [
      "helen\n"
     ]
    }
   ],
   "source": [
    "# 建立 function 2\n",
    "def gname():\n",
    "    name = \"helen\"\n",
    "    return name\n",
    "##有return\n",
    "x1 = gname()\n",
    "print(x1)\n"
   ]
  },
  {
   "cell_type": "code",
   "execution_count": 3,
   "metadata": {},
   "outputs": [
    {
     "name": "stdout",
     "output_type": "stream",
     "text": [
      "hello,emmma\n",
      "hello,allen\n"
     ]
    }
   ],
   "source": [
    "# 建立 function 3\n",
    "def saygoood(name):\n",
    "    return \"hello,\" +name\n",
    "\n",
    "print(saygoood(\"emmma\"))\n",
    "\n",
    "x2 = saygoood(\"allen\")\n",
    "print(x2)"
   ]
  },
  {
   "cell_type": "code",
   "execution_count": 3,
   "metadata": {},
   "outputs": [
    {
     "name": "stdout",
     "output_type": "stream",
     "text": [
      "hello,just!!!\n",
      "good night,emma!!!\n"
     ]
    }
   ],
   "source": [
    "# 建立 function 4\n",
    "def ggreet(greeting=\"hello\" , name='just'):\n",
    "    return f\"{greeting},{name}!!!\"\n",
    "\n",
    "greeting = ggreet()\n",
    "print(greeting)\n",
    "\n",
    "greeting = ggreet(\"good night\", \"emma\")\n",
    "print(greeting)\n",
    "\n",
    "\n"
   ]
  },
  {
   "cell_type": "markdown",
   "metadata": {},
   "source": [
    "-----"
   ]
  },
  {
   "cell_type": "code",
   "execution_count": 4,
   "metadata": {},
   "outputs": [
    {
     "name": "stdout",
     "output_type": "stream",
     "text": [
      "2600\n"
     ]
    }
   ],
   "source": [
    "# 改寫 Module2 practice\n",
    "\n",
    "def ttadis(total , discount):\n",
    "    if total>=2000:\n",
    "        total-=discount\n",
    "    return total\n",
    "\n",
    "price = 2900\n",
    "discount = 300\n",
    "total = ttadis(price , discount)\n",
    "\n",
    "print(total)\n"
   ]
  },
  {
   "cell_type": "markdown",
   "metadata": {},
   "source": [
    "連接SQL"
   ]
  },
  {
   "cell_type": "code",
   "execution_count": 4,
   "metadata": {},
   "outputs": [
    {
     "name": "stdout",
     "output_type": "stream",
     "text": [
      "Collecting pymysqlNote: you may need to restart the kernel to use updated packages.\n",
      "\n",
      "  Downloading PyMySQL-1.1.1-py3-none-any.whl.metadata (4.4 kB)\n",
      "Downloading PyMySQL-1.1.1-py3-none-any.whl (44 kB)\n",
      "Installing collected packages: pymysql\n",
      "Successfully installed pymysql-1.1.1\n"
     ]
    }
   ],
   "source": [
    "%pip install pymysql"
   ]
  },
  {
   "cell_type": "code",
   "execution_count": 2,
   "metadata": {},
   "outputs": [
    {
     "name": "stdout",
     "output_type": "stream",
     "text": [
      "(('information_schema',), ('my_database',), ('my_titanic',), ('my_train_titanic',), ('mysql',), ('performance_schema',), ('sakila',), ('servdb',), ('social_media_app',), ('sys',), ('transaction_test',), ('world',))\n"
     ]
    }
   ],
   "source": [
    "import pymysql\n",
    "\n",
    "connection = pymysql.connect(\n",
    "    host=\"localhost\",\n",
    "    user='root',\n",
    "    password=\"P@ssw0rd\",\n",
    "    port=3306\n",
    ")\n",
    "\n",
    "with connection.cursor() as cursor:\n",
    "    cursor.execute(\"SHOW DATABASES;\")\n",
    "    result = cursor.fetchall()\n",
    "\n",
    "print(result)"
   ]
  },
  {
   "cell_type": "code",
   "execution_count": 12,
   "metadata": {},
   "outputs": [
    {
     "name": "stdout",
     "output_type": "stream",
     "text": [
      "Requirement already satisfied: cryptography in c:\\users\\user\\appdata\\local\\programs\\python\\python313\\lib\\site-packages (43.0.1)\n",
      "Requirement already satisfied: cffi>=1.12 in c:\\users\\user\\appdata\\local\\programs\\python\\python313\\lib\\site-packages (from cryptography) (1.17.1)\n",
      "Requirement already satisfied: pycparser in c:\\users\\user\\appdata\\local\\programs\\python\\python313\\lib\\site-packages (from cffi>=1.12->cryptography) (2.22)\n",
      "Note: you may need to restart the kernel to use updated packages.\n"
     ]
    }
   ],
   "source": [
    "%pip install cryptography   ##要重新啟動"
   ]
  },
  {
   "cell_type": "code",
   "execution_count": null,
   "metadata": {},
   "outputs": [],
   "source": []
  },
  {
   "cell_type": "code",
   "execution_count": null,
   "metadata": {},
   "outputs": [],
   "source": []
  },
  {
   "cell_type": "code",
   "execution_count": null,
   "metadata": {},
   "outputs": [],
   "source": []
  },
  {
   "cell_type": "code",
   "execution_count": null,
   "metadata": {},
   "outputs": [],
   "source": []
  }
 ],
 "metadata": {
  "kernelspec": {
   "display_name": "Python 3",
   "language": "python",
   "name": "python3"
  },
  "language_info": {
   "codemirror_mode": {
    "name": "ipython",
    "version": 3
   },
   "file_extension": ".py",
   "mimetype": "text/x-python",
   "name": "python",
   "nbconvert_exporter": "python",
   "pygments_lexer": "ipython3",
   "version": "3.13.0"
  }
 },
 "nbformat": 4,
 "nbformat_minor": 2
}
